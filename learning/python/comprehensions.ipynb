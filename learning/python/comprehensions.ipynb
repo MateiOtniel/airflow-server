{
 "cells": [
  {
   "metadata": {},
   "cell_type": "markdown",
   "source": "List comprehensions",
   "id": "6f9bf4a1db78a26c"
  },
  {
   "metadata": {
    "ExecuteTime": {
     "end_time": "2025-10-02T17:49:49.757123Z",
     "start_time": "2025-10-02T17:49:49.750058Z"
    }
   },
   "cell_type": "code",
   "source": "print(\"Hello\")",
   "id": "f6375feac50a052",
   "outputs": [
    {
     "name": "stdout",
     "output_type": "stream",
     "text": [
      "Hello\n"
     ]
    }
   ],
   "execution_count": 1
  },
  {
   "metadata": {},
   "cell_type": "code",
   "outputs": [],
   "execution_count": null,
   "source": "",
   "id": "267f4ff2084db42a"
  }
 ],
 "metadata": {
  "kernelspec": {
   "name": "python3",
   "language": "python",
   "display_name": "Python 3 (ipykernel)"
  }
 },
 "nbformat": 4,
 "nbformat_minor": 5
}
